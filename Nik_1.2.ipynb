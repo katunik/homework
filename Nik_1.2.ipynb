{
 "cells": [
  {
   "cell_type": "code",
   "execution_count": 15,
   "metadata": {},
   "outputs": [
    {
     "name": "stdout",
     "output_type": "stream",
     "text": [
      "Введите id пользователя: 2\n",
      "Computing the cosine similarity matrix...\n",
      "Done computing similarity matrix.\n",
      "Пользователь: 2\n",
      "   1512    ('World of Apu, The (Apur Sansar) (1959)', '05-Apr-1996')              5\n",
      "   1367    ('Faust (1994)', '01-Jan-1994')                                        4.862\n",
      "   1449    ('Pather Panchali (1955)', '22-Mar-1996')                              4.854\n",
      "   1142    ('When We Were Kings (1996)', '14-Feb-1997')                           4.825\n",
      "   1176    ('Welcome To Sarajevo (1997)', '01-Jan-1997')                          4.786\n"
     ]
    }
   ],
   "source": [
    "import io\n",
    "from surprise import KNNWithMeans\n",
    "from surprise import Dataset\n",
    "from surprise import get_dataset_dir\n",
    "from collections import defaultdict\n",
    "\n",
    "\n",
    "min_films = 5\n",
    "knn = 4\n",
    "\n",
    "def get_info():\n",
    "    file_name = get_dataset_dir() + '/ml-100k/ml-100k/u.item'\n",
    "    info = {}\n",
    "    with io.open(file_name, 'r', encoding='ISO-8859-1') as file:\n",
    "        for line in file:\n",
    "            line = line.split('|')\n",
    "            info[line[0]] = (line[1], line[2])\n",
    "    return info\n",
    "\n",
    "def rnk_surprise(usr):\n",
    "    data = Dataset.load_builtin('ml-100k')\n",
    "    trainset = data.build_full_trainset()\n",
    "\n",
    "    sim_options = {'name': 'cosine', 'user_based': True, 'min_support': min_films}\n",
    "    algo = KNNWithMeans(k = knn, min_k = knn, sim_options = sim_options)\n",
    "    algo.fit(trainset)\n",
    "\n",
    "    testset = trainset.build_anti_testset()\n",
    "    testset = filter(lambda x: x[0] == usr, testset)\n",
    "    predictions = algo.test(testset)\n",
    "    top_n = defaultdict(list)\n",
    "\n",
    "    for uid, iid, _, est, _ in predictions:\n",
    "        top_n[uid].append((iid, round(est, 3)))\n",
    "\n",
    "    for uid, user_rnk in top_n.items():\n",
    "        user_rnk.sort(key=lambda x: x[1], reverse=True)\n",
    "        top_n[uid] = user_rnk[:min_films]\n",
    "\n",
    "    info = get_info()\n",
    "    \n",
    "    query = []\n",
    "    row_format = \"{:^10} {:<70} {:^1}\"\n",
    "    \n",
    "    print(\"Пользователь: \" + str(usr))\n",
    "    \n",
    "    \n",
    "    for film_rid, rnk in top_n[usr]:\n",
    "        print(row_format.format(film_rid, str(info[film_rid]), rnk))\n",
    "        \n",
    "        #вырежем год из названия фильма\n",
    "        film_year = re.findall(r\"\\d{4}\", info[film_rid][0])\n",
    "        \n",
    "        #уберем год и артикли из названия фильма \n",
    "        if info[film_rid][0].find(\" (\") != -1:\n",
    "            at = info[film_rid][0].find(\" (\")\n",
    "            film = info[film_rid][0][:at]\n",
    "            \n",
    "        if info[film_rid][0].find(\", The\") != -1:\n",
    "            at = info[film_rid][0].find(\", The\")\n",
    "            film = info[film_rid][0][:at]\n",
    "            \n",
    "        if info[film_rid][0].find(\", Das\") != -1:\n",
    "            at = info[film_rid][0].find(\", Das\")\n",
    "            film = info[film_rid][0][:at]\n",
    "            \n",
    "        query.append([film, film_year[0]])\n",
    "    return query\n",
    "\n",
    "usr = input(\"Введите id пользователя: \")\n",
    "query = rnk_surprise(usr)"
   ]
  },
  {
   "cell_type": "code",
   "execution_count": null,
   "metadata": {},
   "outputs": [],
   "source": []
  },
  {
   "cell_type": "code",
   "execution_count": null,
   "metadata": {},
   "outputs": [],
   "source": []
  },
  {
   "cell_type": "code",
   "execution_count": null,
   "metadata": {},
   "outputs": [],
   "source": []
  },
  {
   "cell_type": "code",
   "execution_count": null,
   "metadata": {},
   "outputs": [],
   "source": []
  }
 ],
 "metadata": {
  "kernelspec": {
   "display_name": "Python 3",
   "language": "python",
   "name": "python3"
  },
  "language_info": {
   "codemirror_mode": {
    "name": "ipython",
    "version": 3
   },
   "file_extension": ".py",
   "mimetype": "text/x-python",
   "name": "python",
   "nbconvert_exporter": "python",
   "pygments_lexer": "ipython3",
   "version": "3.7.4"
  }
 },
 "nbformat": 4,
 "nbformat_minor": 2
}

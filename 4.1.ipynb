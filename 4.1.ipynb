{
 "cells": [
  {
   "cell_type": "code",
   "execution_count": 65,
   "metadata": {},
   "outputs": [
    {
     "name": "stdout",
     "output_type": "stream",
     "text": [
      "[4, 196, 36]\n"
     ]
    }
   ],
   "source": [
    "# Квадраты четных чисел\n",
    "l=[ 2, 3, 14, 5, 6, 7]\n",
    "res1=list(map(lambda n: n*n, list(filter(lambda n: n%2==0, l))))\n",
    "print(res1)\n",
    "\n"
   ]
  },
  {
   "cell_type": "code",
   "execution_count": 53,
   "metadata": {},
   "outputs": [
    {
     "name": "stdout",
     "output_type": "stream",
     "text": [
      "['h', 'e', 'o', 'i']\n",
      "['h', 'e', 'o', 'i']\n"
     ]
    }
   ],
   "source": [
    "# вернуть строку с буквами, которые стоят на указанных местах\n",
    "str1 = \"helouirwq\"\n",
    "nums = [0,1,3,5]\n",
    "\n",
    "# используя list comprehensions\n",
    "res2=list(map(lambda n: str1[n], nums))\n",
    "print(res2)\n",
    "\n",
    "# не используя list comprehensions\n",
    "res3=[x for x in str1 for y in nums if str1.index(x)==y]\n",
    "print(res3)"
   ]
  },
  {
   "cell_type": "code",
   "execution_count": 58,
   "metadata": {},
   "outputs": [
    {
     "name": "stdout",
     "output_type": "stream",
     "text": [
      "Дано: hjkpPyu tyUUUer. HHHHHH\n",
      "Hjkppyu tyuuuer. Hhhhhh\n"
     ]
    }
   ],
   "source": [
    "# Вернуть текст, в котором все буквы в нижнем регистре, а первые буквы каждого предложения – в верхнем.\n",
    "str2 = \"hjkpPyu tyUUUer. HHHHHH\"\n",
    "sent = str2.split(\".\")\n",
    "sent = [s.strip().lower() for s in sent]\n",
    "res4 = \". \".join([s[0].upper() + s[1:] for s in sent if s])\n",
    "\n",
    "print(\"Дано: \"+str2)\n",
    "print( res4)"
   ]
  },
  {
   "cell_type": "code",
   "execution_count": 59,
   "metadata": {},
   "outputs": [
    {
     "name": "stdout",
     "output_type": "stream",
     "text": [
      "15\n"
     ]
    }
   ],
   "source": [
    "#funcReduce\n",
    "\n",
    "def FunctoolsReduce(function, iterable, initializer = None):\n",
    "    iterator = iter(iterable)\n",
    "    if initializer is None:\n",
    "        initializer = next(iterator)\n",
    "    accumulation_value = initializer\n",
    "    \n",
    "    for x in iterator:\n",
    "        accumulation_value = function(accumulation_value, x)\n",
    "    return accumulation_value\n",
    "\n",
    "res5 = FunctoolsReduce(lambda x, y: x + y, [1, 2, 3, 4, 5])\n",
    "print(res5)"
   ]
  },
  {
   "cell_type": "code",
   "execution_count": 37,
   "metadata": {},
   "outputs": [
    {
     "name": "stdout",
     "output_type": "stream",
     "text": [
      "[3, 9, 15]\n"
     ]
    }
   ],
   "source": [
    "#pipeline_each\n",
    "import functools\n",
    "\n",
    "def pipeline_each(val, functions):\n",
    "    for function in functions:\n",
    "        val = function(val)\n",
    "    return val\n",
    "        \n",
    "functions = [ lambda x: x * 2,\n",
    "             lambda x: x * 3,\n",
    "             lambda x: x - 4,\n",
    "             lambda x: x + 1\n",
    "            ]\n",
    "nums = [1,2,3]\n",
    "\n",
    "res6 = list(map(functools.partial(pipeline_each,functions=functions), nums))\n",
    "print(res6)"
   ]
  },
  {
   "cell_type": "code",
   "execution_count": 60,
   "metadata": {},
   "outputs": [
    {
     "name": "stdout",
     "output_type": "stream",
     "text": [
      "['good', 'guio', 'tyuoiyt', 'h']\n"
     ]
    }
   ],
   "source": [
    "# вернуть все слова по очереди\n",
    "\n",
    "str3 = 'good guio tyuoiyt h'\n",
    "str3 = str3.split(' ')\n",
    "res7 = list(map(lambda x: x, str3))\n",
    "print(res7)"
   ]
  },
  {
   "cell_type": "code",
   "execution_count": 63,
   "metadata": {},
   "outputs": [
    {
     "name": "stdout",
     "output_type": "stream",
     "text": [
      "6\n",
      "13\n",
      "14\n",
      "29\n",
      "30\n",
      "61\n",
      "62\n",
      "125\n",
      "126\n",
      "253\n"
     ]
    }
   ],
   "source": [
    "#Написать генератор псевдо случайных чисел\n",
    "\n",
    "def Random (seed = 0):\n",
    "    while True:\n",
    "        seed = (1+(seed*(seed%4)))%13167\n",
    "        yield seed\n",
    "res8=Random(5);\n",
    "\n",
    "for i in range(10):\n",
    "    print(next(res8))"
   ]
  },
  {
   "cell_type": "code",
   "execution_count": 62,
   "metadata": {},
   "outputs": [
    {
     "name": "stdout",
     "output_type": "stream",
     "text": [
      "0\n",
      "1\n",
      "10\n",
      "11\n",
      "12\n"
     ]
    }
   ],
   "source": [
    "# бесконечная арифметическая прогрессия\n",
    "def prog():\n",
    "    i = 0\n",
    "    while True:\n",
    "        input = yield i\n",
    "        if input != None:\n",
    "            i = input\n",
    "        else:\n",
    "            i += 1\n",
    "        \n",
    "res9 = prog()\n",
    "print(next(res9))\n",
    "print(next(res9))\n",
    "print(res9.send(10))\n",
    "print(next(res9))\n",
    "print(next(res9))"
   ]
  },
  {
   "cell_type": "code",
   "execution_count": null,
   "metadata": {},
   "outputs": [],
   "source": []
  }
 ],
 "metadata": {
  "kernelspec": {
   "display_name": "Python 2",
   "language": "python",
   "name": "python2"
  },
  "language_info": {
   "codemirror_mode": {
    "name": "ipython",
    "version": 2
   },
   "file_extension": ".py",
   "mimetype": "text/x-python",
   "name": "python",
   "nbconvert_exporter": "python",
   "pygments_lexer": "ipython2",
   "version": "2.7.16"
  }
 },
 "nbformat": 4,
 "nbformat_minor": 2
}

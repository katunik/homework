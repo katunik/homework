{
 "cells": [
  {
   "cell_type": "code",
   "execution_count": 11,
   "metadata": {},
   "outputs": [
    {
     "name": "stdout",
     "output_type": "stream",
     "text": [
      "('weight: ', 13000.0, 'volume: ', 12.0)\n",
      "[[851.0, 0.9, 260.0], [1470.0, 0.7, 197.0], [146.0, 0.4, 123.0], [1544.0, 1.1, 207.0], [876.0, 1.1, 275.0], [1045.0, 0.5, 205.0], [240.0, 1.0, 141.0], [1581.0, 0.8, 298.0], [1701.0, 0.5, 253.0], [449.0, 0.5, 302.0], [458.0, 0.9, 277.0], [1110.0, 0.5, 351.0], [522.0, 0.7, 199.0], [1658.0, 1.1, 137.0], [215.0, 0.4, 373.0], [1437.0, 1.2, 324.0], [1690.0, 1.1, 146.0], [1537.0, 0.9, 389.0], [990.0, 0.6, 142.0], [221.0, 1.1, 318.0], [455.0, 0.5, 325.0], [1455.0, 0.7, 317.0], [452.0, 1.2, 326.0], [548.0, 0.4, 265.0], [264.0, 0.8, 113.0], [611.0, 0.9, 242.0], [1675.0, 0.9, 320.0], [456.0, 1.0, 186.0], [945.0, 0.9, 134.0], [935.0, 0.5, 29.0]]\n"
     ]
    }
   ],
   "source": [
    "from pyeasyga import pyeasyga\n",
    "# Вариант 14\n",
    "fname = \"14.txt\" \n",
    "itemsData=[]\n",
    "\n",
    "with open(fname) as f:\n",
    "    content = f.readlines()\n",
    "    \n",
    "capacities = [float(n) for n in content.pop(0).split()]\n",
    "print('weight: ', capacities[0], \"volume: \", capacities[1])\n",
    "weightCapacity=int(capacities[0])\n",
    "volumeCapacity=int(capacities[1])\n",
    "\n",
    "for x in content:\n",
    "    itemsData.append(map(float, x[:len(x)-1].split(' ')))\n",
    "print(itemsData)"
   ]
  },
  {
   "cell_type": "code",
   "execution_count": 12,
   "metadata": {},
   "outputs": [
    {
     "name": "stdout",
     "output_type": "stream",
     "text": [
      "(4706.0, [0, 0, 1, 0, 1, 1, 0, 1, 0, 1, 1, 1, 0, 0, 1, 0, 0, 1, 0, 1, 1, 1, 1, 1, 0, 1, 1, 0, 0, 0])\n"
     ]
    }
   ],
   "source": [
    "ga = pyeasyga.GeneticAlgorithm(itemsData)\n",
    "ga.population_size = 200\n",
    "\n",
    "def fitness(individual, data):\n",
    "    weight, volume, price = 0, 0, 0\n",
    "    for (selected, item) in zip(individual, data):\n",
    "        if selected:\n",
    "            weight += item[0]\n",
    "            volume += item[1]\n",
    "            price += item[2]\n",
    "    if weight > capacities[0] or volume > capacities[1]:\n",
    "        price = 0\n",
    "    return price\n",
    "\n",
    "ga.fitness_function = fitness\n",
    "ga.run()\n",
    "\n",
    "print ga.best_individual()"
   ]
  },
  {
   "cell_type": "code",
   "execution_count": null,
   "metadata": {},
   "outputs": [],
   "source": []
  }
 ],
 "metadata": {
  "kernelspec": {
   "display_name": "Python 2",
   "language": "python",
   "name": "python2"
  }
 },
 "nbformat": 4,
 "nbformat_minor": 2
}
